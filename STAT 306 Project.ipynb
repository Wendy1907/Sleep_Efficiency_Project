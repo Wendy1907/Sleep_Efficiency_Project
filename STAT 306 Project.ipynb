{
 "cells": [
  {
   "cell_type": "markdown",
   "id": "f3c37ab0-bef9-4b31-920c-d160e2adcdbe",
   "metadata": {
    "tags": []
   },
   "source": [
    "## STAT 306 Finding Relationships in Data\n",
    "\n",
    "### Group Project Report\n",
    "\n",
    "Group A2 - Tran Anh Thu Phung, Ena Gupta, Yihang He, Haiyue Lu\n",
    "\n",
    "### Import"
   ]
  },
  {
   "cell_type": "code",
   "execution_count": null,
   "id": "82c72b08-c5e4-4930-81b8-e715689a7c8c",
   "metadata": {
    "is_executing": true,
    "tags": []
   },
   "outputs": [],
   "source": [
    "library(tidyverse)\n",
    "library(repr)\n",
    "library(broom)\n",
    "library(leaps)\n",
    "library(moderndive)\n",
    "library(gridExtra)\n",
    "library(grid)"
   ]
  },
  {
   "cell_type": "markdown",
   "id": "11bd09dc-c21a-42d6-8962-20a064a2de46",
   "metadata": {
    "tags": []
   },
   "source": [
    "### 1. Data:\n",
    "**1.1 Introduction:**\n",
    "\n",
    "Sleep is a fundamental aspect of human life, playing a critical role in our overall health and well-being. In today’s fast-paced world, many individuals struggle with sleep-related issues, such as insomnia, sleep disturbances, and reduced sleep efficiency. To understand how lifestyle factors impact sleep efficiency, in this project, we will use a data set from Kaggle to help individuals make informed choices to improve their sleep quality and overall health.\n",
    "\n",
    "**1.2 Loading the Sleep Efficiency data**\n",
    "\n",
    "To read the dataset in R, we will read the dataset from the web into R. "
   ]
  },
  {
   "cell_type": "code",
   "execution_count": null,
   "id": "e45f0727-286a-4798-bf74-4611c570b2aa",
   "metadata": {
    "tags": []
   },
   "outputs": [],
   "source": [
    "url <- \"https://raw.githubusercontent.com/Wendy1907/Sleep_Efficiency_Project/main/Sleep_Efficiency.csv\"\n",
    "df <- read_csv(url)\n",
    "head(df)"
   ]
  },
  {
   "cell_type": "markdown",
   "id": "838d6635-93e9-4494-9c92-9424d933fe85",
   "metadata": {},
   "source": [
    "**1.3 Data Summary**\n",
    "\n",
    "The dataset contains **452 observations** in total with **15 columns** including ID.\n",
    "\n",
    "| Variable Name      | Type of Variable | Explanation |\n",
    "| ----------- | :-----------: | ----------- |\n",
    "| `ID`     | int       | A unique identifier for each test subject. |\n",
    "| `Age`   | int        | The age of the test subjects with a minimum value of 9 years old, a maximum value of 69 years old, and a mean of about 40 years old.|\n",
    "| `Gender`   | chr       | The gender of the test subject, e.g., Male or Female. |\n",
    "| `Bedtime`   | chr        |Indicate when each subject goes to bed, with the date and time.|\n",
    "| `Wakeup time`   | chr        | Indicate when each subject wakes up each day, with the date and time.|\n",
    "| `Sleep duration`   | dbl        | Records the total amount of time each subject slept in hours, with a minimum value of 5 hours, a maximum duration of 10 hours, and an average of 7.47 hours.|\n",
    "| `Sleep efficiency`   | dbl       | A measure of the proportion of time spent in bed that is spent asleep, with a minimum weight of 50%, maximum of 99% and average of 78.89%.|\n",
    "| `REM sleep percentage`   | int        | Amount of time (in percentage) each subject spent in the stage of REM sleep. Minimum of 15%, maximum of 30% and mean of 22.61%.|\n",
    "| `Deep sleep percentage`   | int        | Amount of time (in percentage) each subject spent in the stage of deep sleep. Minimum of 18%, maximum of 75% and mean of 52.82%.|\n",
    "| `Light sleep percentage`   | int        | Amount of time (in percentage) each subject spent in the stage of light sleep. Minimum of 7%, maximum of 63% and mean of 24.56%.|\n",
    "| `Awakenings`   | dbl        | Record the number of times each subject wakes up during the night. There are a total of 20 null variables, with a minimum of 0 times, a maximum of 4 times, and a mean of 1.64.|\n",
    "| `Caffeine consumption`   | dbl        | The amount of caffeine consumed in the 24 hours before bedtime (in mg), with 25 null variables. |\n",
    "| `Alcohol consumption`   | dbl        | The amount of alcohol consumed in the 24 hours before bedtime (in oz), with 14 null variables. |\n",
    "| `Smoking status`   | chr        | The smoking status of the test subject, whether they smoke or not. |\n",
    "| `Exercise frequency`   | dbl        | The number of times the test subject exercises each week. With 6 null variables, with a mean of 1.79, minimum of 0 and maximum of 5 times a week. |\n",
    "\n",
    "### 2. Research Question:\n",
    "\n",
    "Can sleep efficiency be improved through lifestyle interventions(caffeine consumption, alcohol consumption, smoking status, exercise frequency), and what are the most effective strategies for enhancing sleep quality?\n",
    "\n",
    "### 3. Cleaning and Warngling the dataset:\n",
    "\n",
    "#### 3.1 Cleaning the dataset:\n",
    "\n",
    "**3.1.1 Rename columns**\n",
    "\n",
    "Since the columns name have space in the middle, then, we decided to rename them."
   ]
  },
  {
   "cell_type": "code",
   "execution_count": 3,
   "id": "1ca21493-d386-4fae-a51b-9baf4e4836aa",
   "metadata": {
    "tags": []
   },
   "outputs": [
    {
     "data": {
      "text/html": [
       "<table class=\"dataframe\">\n",
       "<caption>A tibble: 6 × 15</caption>\n",
       "<thead>\n",
       "\t<tr><th scope=col>ID</th><th scope=col>Age</th><th scope=col>Gender</th><th scope=col>Bedtime</th><th scope=col>Wakeup.time</th><th scope=col>Sleep.duration</th><th scope=col>Sleep.efficiency</th><th scope=col>REM.sleep.percentage</th><th scope=col>Deep.sleep.percentage</th><th scope=col>Light.sleep.percentage</th><th scope=col>Awakenings</th><th scope=col>Caffeine.consumption</th><th scope=col>Alcohol.consumption</th><th scope=col>Smoking.status</th><th scope=col>Exercise.frequency</th></tr>\n",
       "\t<tr><th scope=col>&lt;dbl&gt;</th><th scope=col>&lt;dbl&gt;</th><th scope=col>&lt;chr&gt;</th><th scope=col>&lt;dttm&gt;</th><th scope=col>&lt;dttm&gt;</th><th scope=col>&lt;dbl&gt;</th><th scope=col>&lt;dbl&gt;</th><th scope=col>&lt;dbl&gt;</th><th scope=col>&lt;dbl&gt;</th><th scope=col>&lt;dbl&gt;</th><th scope=col>&lt;dbl&gt;</th><th scope=col>&lt;dbl&gt;</th><th scope=col>&lt;dbl&gt;</th><th scope=col>&lt;chr&gt;</th><th scope=col>&lt;dbl&gt;</th></tr>\n",
       "</thead>\n",
       "<tbody>\n",
       "\t<tr><td>1</td><td>65</td><td>Female</td><td>2021-03-06 01:00:00</td><td>2021-03-06 07:00:00</td><td>6.0</td><td>0.88</td><td>18</td><td>70</td><td>12</td><td>0</td><td> 0</td><td>0</td><td>Yes</td><td>3</td></tr>\n",
       "\t<tr><td>2</td><td>69</td><td>Male  </td><td>2021-12-05 02:00:00</td><td>2021-12-05 09:00:00</td><td>7.0</td><td>0.66</td><td>19</td><td>28</td><td>53</td><td>3</td><td> 0</td><td>3</td><td>Yes</td><td>3</td></tr>\n",
       "\t<tr><td>3</td><td>40</td><td>Female</td><td>2021-05-25 21:30:00</td><td>2021-05-25 05:30:00</td><td>8.0</td><td>0.89</td><td>20</td><td>70</td><td>10</td><td>1</td><td> 0</td><td>0</td><td>No </td><td>3</td></tr>\n",
       "\t<tr><td>4</td><td>40</td><td>Female</td><td>2021-11-03 02:30:00</td><td>2021-11-03 08:30:00</td><td>6.0</td><td>0.51</td><td>23</td><td>25</td><td>52</td><td>3</td><td>50</td><td>5</td><td>Yes</td><td>1</td></tr>\n",
       "\t<tr><td>5</td><td>57</td><td>Male  </td><td>2021-03-13 01:00:00</td><td>2021-03-13 09:00:00</td><td>8.0</td><td>0.76</td><td>27</td><td>55</td><td>18</td><td>3</td><td> 0</td><td>3</td><td>No </td><td>3</td></tr>\n",
       "\t<tr><td>6</td><td>36</td><td>Female</td><td>2021-07-01 21:00:00</td><td>2021-07-01 04:30:00</td><td>7.5</td><td>0.90</td><td>23</td><td>60</td><td>17</td><td>0</td><td>NA</td><td>0</td><td>No </td><td>1</td></tr>\n",
       "</tbody>\n",
       "</table>\n"
      ],
      "text/latex": [
       "A tibble: 6 × 15\n",
       "\\begin{tabular}{lllllllllllllll}\n",
       " ID & Age & Gender & Bedtime & Wakeup.time & Sleep.duration & Sleep.efficiency & REM.sleep.percentage & Deep.sleep.percentage & Light.sleep.percentage & Awakenings & Caffeine.consumption & Alcohol.consumption & Smoking.status & Exercise.frequency\\\\\n",
       " <dbl> & <dbl> & <chr> & <dttm> & <dttm> & <dbl> & <dbl> & <dbl> & <dbl> & <dbl> & <dbl> & <dbl> & <dbl> & <chr> & <dbl>\\\\\n",
       "\\hline\n",
       "\t 1 & 65 & Female & 2021-03-06 01:00:00 & 2021-03-06 07:00:00 & 6.0 & 0.88 & 18 & 70 & 12 & 0 &  0 & 0 & Yes & 3\\\\\n",
       "\t 2 & 69 & Male   & 2021-12-05 02:00:00 & 2021-12-05 09:00:00 & 7.0 & 0.66 & 19 & 28 & 53 & 3 &  0 & 3 & Yes & 3\\\\\n",
       "\t 3 & 40 & Female & 2021-05-25 21:30:00 & 2021-05-25 05:30:00 & 8.0 & 0.89 & 20 & 70 & 10 & 1 &  0 & 0 & No  & 3\\\\\n",
       "\t 4 & 40 & Female & 2021-11-03 02:30:00 & 2021-11-03 08:30:00 & 6.0 & 0.51 & 23 & 25 & 52 & 3 & 50 & 5 & Yes & 1\\\\\n",
       "\t 5 & 57 & Male   & 2021-03-13 01:00:00 & 2021-03-13 09:00:00 & 8.0 & 0.76 & 27 & 55 & 18 & 3 &  0 & 3 & No  & 3\\\\\n",
       "\t 6 & 36 & Female & 2021-07-01 21:00:00 & 2021-07-01 04:30:00 & 7.5 & 0.90 & 23 & 60 & 17 & 0 & NA & 0 & No  & 1\\\\\n",
       "\\end{tabular}\n"
      ],
      "text/markdown": [
       "\n",
       "A tibble: 6 × 15\n",
       "\n",
       "| ID &lt;dbl&gt; | Age &lt;dbl&gt; | Gender &lt;chr&gt; | Bedtime &lt;dttm&gt; | Wakeup.time &lt;dttm&gt; | Sleep.duration &lt;dbl&gt; | Sleep.efficiency &lt;dbl&gt; | REM.sleep.percentage &lt;dbl&gt; | Deep.sleep.percentage &lt;dbl&gt; | Light.sleep.percentage &lt;dbl&gt; | Awakenings &lt;dbl&gt; | Caffeine.consumption &lt;dbl&gt; | Alcohol.consumption &lt;dbl&gt; | Smoking.status &lt;chr&gt; | Exercise.frequency &lt;dbl&gt; |\n",
       "|---|---|---|---|---|---|---|---|---|---|---|---|---|---|---|\n",
       "| 1 | 65 | Female | 2021-03-06 01:00:00 | 2021-03-06 07:00:00 | 6.0 | 0.88 | 18 | 70 | 12 | 0 |  0 | 0 | Yes | 3 |\n",
       "| 2 | 69 | Male   | 2021-12-05 02:00:00 | 2021-12-05 09:00:00 | 7.0 | 0.66 | 19 | 28 | 53 | 3 |  0 | 3 | Yes | 3 |\n",
       "| 3 | 40 | Female | 2021-05-25 21:30:00 | 2021-05-25 05:30:00 | 8.0 | 0.89 | 20 | 70 | 10 | 1 |  0 | 0 | No  | 3 |\n",
       "| 4 | 40 | Female | 2021-11-03 02:30:00 | 2021-11-03 08:30:00 | 6.0 | 0.51 | 23 | 25 | 52 | 3 | 50 | 5 | Yes | 1 |\n",
       "| 5 | 57 | Male   | 2021-03-13 01:00:00 | 2021-03-13 09:00:00 | 8.0 | 0.76 | 27 | 55 | 18 | 3 |  0 | 3 | No  | 3 |\n",
       "| 6 | 36 | Female | 2021-07-01 21:00:00 | 2021-07-01 04:30:00 | 7.5 | 0.90 | 23 | 60 | 17 | 0 | NA | 0 | No  | 1 |\n",
       "\n"
      ],
      "text/plain": [
       "  ID Age Gender Bedtime             Wakeup.time         Sleep.duration\n",
       "1 1  65  Female 2021-03-06 01:00:00 2021-03-06 07:00:00 6.0           \n",
       "2 2  69  Male   2021-12-05 02:00:00 2021-12-05 09:00:00 7.0           \n",
       "3 3  40  Female 2021-05-25 21:30:00 2021-05-25 05:30:00 8.0           \n",
       "4 4  40  Female 2021-11-03 02:30:00 2021-11-03 08:30:00 6.0           \n",
       "5 5  57  Male   2021-03-13 01:00:00 2021-03-13 09:00:00 8.0           \n",
       "6 6  36  Female 2021-07-01 21:00:00 2021-07-01 04:30:00 7.5           \n",
       "  Sleep.efficiency REM.sleep.percentage Deep.sleep.percentage\n",
       "1 0.88             18                   70                   \n",
       "2 0.66             19                   28                   \n",
       "3 0.89             20                   70                   \n",
       "4 0.51             23                   25                   \n",
       "5 0.76             27                   55                   \n",
       "6 0.90             23                   60                   \n",
       "  Light.sleep.percentage Awakenings Caffeine.consumption Alcohol.consumption\n",
       "1 12                     0           0                   0                  \n",
       "2 53                     3           0                   3                  \n",
       "3 10                     1           0                   0                  \n",
       "4 52                     3          50                   5                  \n",
       "5 18                     3           0                   3                  \n",
       "6 17                     0          NA                   0                  \n",
       "  Smoking.status Exercise.frequency\n",
       "1 Yes            3                 \n",
       "2 Yes            3                 \n",
       "3 No             3                 \n",
       "4 Yes            1                 \n",
       "5 No             3                 \n",
       "6 No             1                 "
      ]
     },
     "metadata": {},
     "output_type": "display_data"
    }
   ],
   "source": [
    "df <- df %>% \n",
    "        rename(\"Wakeup.time\" = \"Wakeup time\",\n",
    "               \"Sleep.duration\" = \"Sleep duration\",\n",
    "               \"Sleep.efficiency\" = \"Sleep efficiency\",\n",
    "               \"REM.sleep.percentage\" = \"REM sleep percentage\",\n",
    "               \"Deep.sleep.percentage\" = \"Deep sleep percentage\",\n",
    "               \"Light.sleep.percentage\" = \"Light sleep percentage\",\n",
    "               \"Caffeine.consumption\" = \"Caffeine consumption\",\n",
    "               \"Alcohol.consumption\" = \"Alcohol consumption\",\n",
    "               \"Smoking.status\" = \"Smoking status\",\n",
    "               \"Exercise.frequency\" = \"Exercise frequency\"\n",
    "              )\n",
    "head(df)"
   ]
  },
  {
   "cell_type": "markdown",
   "id": "015ce387-706c-48a9-8338-a82ceaeeff74",
   "metadata": {},
   "source": [
    "**3.1.2 Finding Null variables**\n",
    "\n",
    "First, we have to check if the data contains any null or `N/A` value or not"
   ]
  },
  {
   "cell_type": "code",
   "execution_count": 4,
   "id": "56a29708-a19b-4189-804c-57c830829f44",
   "metadata": {
    "tags": []
   },
   "outputs": [
    {
     "data": {
      "text/html": [
       "65"
      ],
      "text/latex": [
       "65"
      ],
      "text/markdown": [
       "65"
      ],
      "text/plain": [
       "[1] 65"
      ]
     },
     "metadata": {},
     "output_type": "display_data"
    }
   ],
   "source": [
    "sum(is.na(df))"
   ]
  },
  {
   "cell_type": "markdown",
   "id": "f0aa7fd1-96b1-4d19-80cf-cf32977ac0f5",
   "metadata": {},
   "source": [
    "The function `is.na` which will identify the null value giving out the result that there are 65 null variables in our dataset. We want to take a look deeper to see which columns contain these null variables."
   ]
  },
  {
   "cell_type": "code",
   "execution_count": 5,
   "id": "e43acc77-a3ad-4d68-938b-40a4b0e4107d",
   "metadata": {
    "tags": []
   },
   "outputs": [
    {
     "data": {
      "text/html": [
       "<style>\n",
       ".dl-inline {width: auto; margin:0; padding: 0}\n",
       ".dl-inline>dt, .dl-inline>dd {float: none; width: auto; display: inline-block}\n",
       ".dl-inline>dt::after {content: \":\\0020\"; padding-right: .5ex}\n",
       ".dl-inline>dt:not(:first-of-type) {padding-left: .5ex}\n",
       "</style><dl class=dl-inline><dt>ID</dt><dd>0</dd><dt>Age</dt><dd>0</dd><dt>Gender</dt><dd>0</dd><dt>Bedtime</dt><dd>0</dd><dt>Wakeup.time</dt><dd>0</dd><dt>Sleep.duration</dt><dd>0</dd><dt>Sleep.efficiency</dt><dd>0</dd><dt>REM.sleep.percentage</dt><dd>0</dd><dt>Deep.sleep.percentage</dt><dd>0</dd><dt>Light.sleep.percentage</dt><dd>0</dd><dt>Awakenings</dt><dd>20</dd><dt>Caffeine.consumption</dt><dd>25</dd><dt>Alcohol.consumption</dt><dd>14</dd><dt>Smoking.status</dt><dd>0</dd><dt>Exercise.frequency</dt><dd>6</dd></dl>\n"
      ],
      "text/latex": [
       "\\begin{description*}\n",
       "\\item[ID] 0\n",
       "\\item[Age] 0\n",
       "\\item[Gender] 0\n",
       "\\item[Bedtime] 0\n",
       "\\item[Wakeup.time] 0\n",
       "\\item[Sleep.duration] 0\n",
       "\\item[Sleep.efficiency] 0\n",
       "\\item[REM.sleep.percentage] 0\n",
       "\\item[Deep.sleep.percentage] 0\n",
       "\\item[Light.sleep.percentage] 0\n",
       "\\item[Awakenings] 20\n",
       "\\item[Caffeine.consumption] 25\n",
       "\\item[Alcohol.consumption] 14\n",
       "\\item[Smoking.status] 0\n",
       "\\item[Exercise.frequency] 6\n",
       "\\end{description*}\n"
      ],
      "text/markdown": [
       "ID\n",
       ":   0Age\n",
       ":   0Gender\n",
       ":   0Bedtime\n",
       ":   0Wakeup.time\n",
       ":   0Sleep.duration\n",
       ":   0Sleep.efficiency\n",
       ":   0REM.sleep.percentage\n",
       ":   0Deep.sleep.percentage\n",
       ":   0Light.sleep.percentage\n",
       ":   0Awakenings\n",
       ":   20Caffeine.consumption\n",
       ":   25Alcohol.consumption\n",
       ":   14Smoking.status\n",
       ":   0Exercise.frequency\n",
       ":   6\n",
       "\n"
      ],
      "text/plain": [
       "                    ID                    Age                 Gender \n",
       "                     0                      0                      0 \n",
       "               Bedtime            Wakeup.time         Sleep.duration \n",
       "                     0                      0                      0 \n",
       "      Sleep.efficiency   REM.sleep.percentage  Deep.sleep.percentage \n",
       "                     0                      0                      0 \n",
       "Light.sleep.percentage             Awakenings   Caffeine.consumption \n",
       "                     0                     20                     25 \n",
       "   Alcohol.consumption         Smoking.status     Exercise.frequency \n",
       "                    14                      0                      6 "
      ]
     },
     "metadata": {},
     "output_type": "display_data"
    }
   ],
   "source": [
    "colSums(is.na(df))"
   ]
  },
  {
   "cell_type": "markdown",
   "id": "658a4643-6aea-46ca-9bf3-03b8afe18647",
   "metadata": {},
   "source": [
    "Based on the summary above, we can see that there are total 20 null variables in `Awakenings` columns, 25 in `Caffeine consumption`, 14 in `Alcohol consumption`, and 6 in `Exercise frequency` in total. Then, we decided to remove those null values from our dataset."
   ]
  },
  {
   "cell_type": "code",
   "execution_count": 6,
   "id": "94a7a75f-b54c-465d-8cee-38c07f164c3e",
   "metadata": {
    "tags": []
   },
   "outputs": [],
   "source": [
    "df_clean <- df %>% drop_na(Awakenings, Caffeine.consumption, Alcohol.consumption, Exercise.frequency)"
   ]
  },
  {
   "cell_type": "markdown",
   "id": "5ac273c6-c1a8-4aa9-b257-4d1fdff12cde",
   "metadata": {},
   "source": [
    "**3.1.3 Finding duplicate values**\n",
    "\n",
    "Next step, we are going to check whether the data have filtered null values have duplicate value or not."
   ]
  },
  {
   "cell_type": "code",
   "execution_count": 7,
   "id": "2cf9241a-a78e-4ace-b721-eabb0f94aeca",
   "metadata": {
    "tags": []
   },
   "outputs": [
    {
     "data": {
      "text/html": [
       "0"
      ],
      "text/latex": [
       "0"
      ],
      "text/markdown": [
       "0"
      ],
      "text/plain": [
       "[1] 0"
      ]
     },
     "metadata": {},
     "output_type": "display_data"
    }
   ],
   "source": [
    "sum(duplicated(df_clean))"
   ]
  },
  {
   "cell_type": "markdown",
   "id": "e57c6067-d279-4004-bede-07b983178642",
   "metadata": {},
   "source": [
    "In this dataset, we can see that there is no duplicate value.\n",
    "\n",
    "Then, we have got a clean dataset. The clean dataset that we have gained is contain total of **388 observations** and **15 different columns**."
   ]
  },
  {
   "cell_type": "code",
   "execution_count": 8,
   "id": "9362f565-9235-4a4f-8e18-d5f43da2ed03",
   "metadata": {
    "tags": []
   },
   "outputs": [
    {
     "data": {
      "text/html": [
       "<table class=\"dataframe\">\n",
       "<caption>A tibble: 6 × 15</caption>\n",
       "<thead>\n",
       "\t<tr><th scope=col>ID</th><th scope=col>Age</th><th scope=col>Gender</th><th scope=col>Bedtime</th><th scope=col>Wakeup.time</th><th scope=col>Sleep.duration</th><th scope=col>Sleep.efficiency</th><th scope=col>REM.sleep.percentage</th><th scope=col>Deep.sleep.percentage</th><th scope=col>Light.sleep.percentage</th><th scope=col>Awakenings</th><th scope=col>Caffeine.consumption</th><th scope=col>Alcohol.consumption</th><th scope=col>Smoking.status</th><th scope=col>Exercise.frequency</th></tr>\n",
       "\t<tr><th scope=col>&lt;dbl&gt;</th><th scope=col>&lt;dbl&gt;</th><th scope=col>&lt;chr&gt;</th><th scope=col>&lt;dttm&gt;</th><th scope=col>&lt;dttm&gt;</th><th scope=col>&lt;dbl&gt;</th><th scope=col>&lt;dbl&gt;</th><th scope=col>&lt;dbl&gt;</th><th scope=col>&lt;dbl&gt;</th><th scope=col>&lt;dbl&gt;</th><th scope=col>&lt;dbl&gt;</th><th scope=col>&lt;dbl&gt;</th><th scope=col>&lt;dbl&gt;</th><th scope=col>&lt;chr&gt;</th><th scope=col>&lt;dbl&gt;</th></tr>\n",
       "</thead>\n",
       "<tbody>\n",
       "\t<tr><td>1</td><td>65</td><td>Female</td><td>2021-03-06 01:00:00</td><td>2021-03-06 07:00:00</td><td>6</td><td>0.88</td><td>18</td><td>70</td><td>12</td><td>0</td><td> 0</td><td>0</td><td>Yes</td><td>3</td></tr>\n",
       "\t<tr><td>2</td><td>69</td><td>Male  </td><td>2021-12-05 02:00:00</td><td>2021-12-05 09:00:00</td><td>7</td><td>0.66</td><td>19</td><td>28</td><td>53</td><td>3</td><td> 0</td><td>3</td><td>Yes</td><td>3</td></tr>\n",
       "\t<tr><td>3</td><td>40</td><td>Female</td><td>2021-05-25 21:30:00</td><td>2021-05-25 05:30:00</td><td>8</td><td>0.89</td><td>20</td><td>70</td><td>10</td><td>1</td><td> 0</td><td>0</td><td>No </td><td>3</td></tr>\n",
       "\t<tr><td>4</td><td>40</td><td>Female</td><td>2021-11-03 02:30:00</td><td>2021-11-03 08:30:00</td><td>6</td><td>0.51</td><td>23</td><td>25</td><td>52</td><td>3</td><td>50</td><td>5</td><td>Yes</td><td>1</td></tr>\n",
       "\t<tr><td>5</td><td>57</td><td>Male  </td><td>2021-03-13 01:00:00</td><td>2021-03-13 09:00:00</td><td>8</td><td>0.76</td><td>27</td><td>55</td><td>18</td><td>3</td><td> 0</td><td>3</td><td>No </td><td>3</td></tr>\n",
       "\t<tr><td>7</td><td>27</td><td>Female</td><td>2021-07-21 21:00:00</td><td>2021-07-21 03:00:00</td><td>6</td><td>0.54</td><td>28</td><td>25</td><td>47</td><td>2</td><td>50</td><td>0</td><td>Yes</td><td>1</td></tr>\n",
       "</tbody>\n",
       "</table>\n"
      ],
      "text/latex": [
       "A tibble: 6 × 15\n",
       "\\begin{tabular}{lllllllllllllll}\n",
       " ID & Age & Gender & Bedtime & Wakeup.time & Sleep.duration & Sleep.efficiency & REM.sleep.percentage & Deep.sleep.percentage & Light.sleep.percentage & Awakenings & Caffeine.consumption & Alcohol.consumption & Smoking.status & Exercise.frequency\\\\\n",
       " <dbl> & <dbl> & <chr> & <dttm> & <dttm> & <dbl> & <dbl> & <dbl> & <dbl> & <dbl> & <dbl> & <dbl> & <dbl> & <chr> & <dbl>\\\\\n",
       "\\hline\n",
       "\t 1 & 65 & Female & 2021-03-06 01:00:00 & 2021-03-06 07:00:00 & 6 & 0.88 & 18 & 70 & 12 & 0 &  0 & 0 & Yes & 3\\\\\n",
       "\t 2 & 69 & Male   & 2021-12-05 02:00:00 & 2021-12-05 09:00:00 & 7 & 0.66 & 19 & 28 & 53 & 3 &  0 & 3 & Yes & 3\\\\\n",
       "\t 3 & 40 & Female & 2021-05-25 21:30:00 & 2021-05-25 05:30:00 & 8 & 0.89 & 20 & 70 & 10 & 1 &  0 & 0 & No  & 3\\\\\n",
       "\t 4 & 40 & Female & 2021-11-03 02:30:00 & 2021-11-03 08:30:00 & 6 & 0.51 & 23 & 25 & 52 & 3 & 50 & 5 & Yes & 1\\\\\n",
       "\t 5 & 57 & Male   & 2021-03-13 01:00:00 & 2021-03-13 09:00:00 & 8 & 0.76 & 27 & 55 & 18 & 3 &  0 & 3 & No  & 3\\\\\n",
       "\t 7 & 27 & Female & 2021-07-21 21:00:00 & 2021-07-21 03:00:00 & 6 & 0.54 & 28 & 25 & 47 & 2 & 50 & 0 & Yes & 1\\\\\n",
       "\\end{tabular}\n"
      ],
      "text/markdown": [
       "\n",
       "A tibble: 6 × 15\n",
       "\n",
       "| ID &lt;dbl&gt; | Age &lt;dbl&gt; | Gender &lt;chr&gt; | Bedtime &lt;dttm&gt; | Wakeup.time &lt;dttm&gt; | Sleep.duration &lt;dbl&gt; | Sleep.efficiency &lt;dbl&gt; | REM.sleep.percentage &lt;dbl&gt; | Deep.sleep.percentage &lt;dbl&gt; | Light.sleep.percentage &lt;dbl&gt; | Awakenings &lt;dbl&gt; | Caffeine.consumption &lt;dbl&gt; | Alcohol.consumption &lt;dbl&gt; | Smoking.status &lt;chr&gt; | Exercise.frequency &lt;dbl&gt; |\n",
       "|---|---|---|---|---|---|---|---|---|---|---|---|---|---|---|\n",
       "| 1 | 65 | Female | 2021-03-06 01:00:00 | 2021-03-06 07:00:00 | 6 | 0.88 | 18 | 70 | 12 | 0 |  0 | 0 | Yes | 3 |\n",
       "| 2 | 69 | Male   | 2021-12-05 02:00:00 | 2021-12-05 09:00:00 | 7 | 0.66 | 19 | 28 | 53 | 3 |  0 | 3 | Yes | 3 |\n",
       "| 3 | 40 | Female | 2021-05-25 21:30:00 | 2021-05-25 05:30:00 | 8 | 0.89 | 20 | 70 | 10 | 1 |  0 | 0 | No  | 3 |\n",
       "| 4 | 40 | Female | 2021-11-03 02:30:00 | 2021-11-03 08:30:00 | 6 | 0.51 | 23 | 25 | 52 | 3 | 50 | 5 | Yes | 1 |\n",
       "| 5 | 57 | Male   | 2021-03-13 01:00:00 | 2021-03-13 09:00:00 | 8 | 0.76 | 27 | 55 | 18 | 3 |  0 | 3 | No  | 3 |\n",
       "| 7 | 27 | Female | 2021-07-21 21:00:00 | 2021-07-21 03:00:00 | 6 | 0.54 | 28 | 25 | 47 | 2 | 50 | 0 | Yes | 1 |\n",
       "\n"
      ],
      "text/plain": [
       "  ID Age Gender Bedtime             Wakeup.time         Sleep.duration\n",
       "1 1  65  Female 2021-03-06 01:00:00 2021-03-06 07:00:00 6             \n",
       "2 2  69  Male   2021-12-05 02:00:00 2021-12-05 09:00:00 7             \n",
       "3 3  40  Female 2021-05-25 21:30:00 2021-05-25 05:30:00 8             \n",
       "4 4  40  Female 2021-11-03 02:30:00 2021-11-03 08:30:00 6             \n",
       "5 5  57  Male   2021-03-13 01:00:00 2021-03-13 09:00:00 8             \n",
       "6 7  27  Female 2021-07-21 21:00:00 2021-07-21 03:00:00 6             \n",
       "  Sleep.efficiency REM.sleep.percentage Deep.sleep.percentage\n",
       "1 0.88             18                   70                   \n",
       "2 0.66             19                   28                   \n",
       "3 0.89             20                   70                   \n",
       "4 0.51             23                   25                   \n",
       "5 0.76             27                   55                   \n",
       "6 0.54             28                   25                   \n",
       "  Light.sleep.percentage Awakenings Caffeine.consumption Alcohol.consumption\n",
       "1 12                     0           0                   0                  \n",
       "2 53                     3           0                   3                  \n",
       "3 10                     1           0                   0                  \n",
       "4 52                     3          50                   5                  \n",
       "5 18                     3           0                   3                  \n",
       "6 47                     2          50                   0                  \n",
       "  Smoking.status Exercise.frequency\n",
       "1 Yes            3                 \n",
       "2 Yes            3                 \n",
       "3 No             3                 \n",
       "4 Yes            1                 \n",
       "5 No             3                 \n",
       "6 Yes            1                 "
      ]
     },
     "metadata": {},
     "output_type": "display_data"
    }
   ],
   "source": [
    "head(df_clean)"
   ]
  },
  {
   "cell_type": "markdown",
   "id": "15e32132-b314-45fd-a493-366f09530ab8",
   "metadata": {},
   "source": [
    "#### 3.2 Wrangling the Sleep Efficiency data\n",
    "\n",
    "Since our research question focus on factors such as `Caffeine.consumption`, `Alcohol.consumption`, `Smoking.status`, `Exercise.frequency`, and the target `Sleep.efficiency`, then we only interested in those columns to finding the most effective strategies enhancing sleep quality. But first, we can try fitting a linear regression model that includes other columns to remove the effects of confounding variables."
   ]
  },
  {
   "cell_type": "code",
   "execution_count": 9,
   "id": "f5076428-c723-4d99-bece-bbbe6a880b54",
   "metadata": {
    "tags": []
   },
   "outputs": [
    {
     "data": {
      "text/html": [
       "<table class=\"dataframe\">\n",
       "<caption>A tibble: 6 × 5</caption>\n",
       "<thead>\n",
       "\t<tr><th scope=col>Caffeine.consumption</th><th scope=col>Alcohol.consumption</th><th scope=col>Smoking.status</th><th scope=col>Exercise.frequency</th><th scope=col>Sleep.efficiency</th></tr>\n",
       "\t<tr><th scope=col>&lt;dbl&gt;</th><th scope=col>&lt;dbl&gt;</th><th scope=col>&lt;chr&gt;</th><th scope=col>&lt;dbl&gt;</th><th scope=col>&lt;dbl&gt;</th></tr>\n",
       "</thead>\n",
       "<tbody>\n",
       "\t<tr><td> 0</td><td>0</td><td>Yes</td><td>3</td><td>0.88</td></tr>\n",
       "\t<tr><td> 0</td><td>3</td><td>Yes</td><td>3</td><td>0.66</td></tr>\n",
       "\t<tr><td> 0</td><td>0</td><td>No </td><td>3</td><td>0.89</td></tr>\n",
       "\t<tr><td>50</td><td>5</td><td>Yes</td><td>1</td><td>0.51</td></tr>\n",
       "\t<tr><td> 0</td><td>3</td><td>No </td><td>3</td><td>0.76</td></tr>\n",
       "\t<tr><td>50</td><td>0</td><td>Yes</td><td>1</td><td>0.54</td></tr>\n",
       "</tbody>\n",
       "</table>\n"
      ],
      "text/latex": [
       "A tibble: 6 × 5\n",
       "\\begin{tabular}{lllll}\n",
       " Caffeine.consumption & Alcohol.consumption & Smoking.status & Exercise.frequency & Sleep.efficiency\\\\\n",
       " <dbl> & <dbl> & <chr> & <dbl> & <dbl>\\\\\n",
       "\\hline\n",
       "\t  0 & 0 & Yes & 3 & 0.88\\\\\n",
       "\t  0 & 3 & Yes & 3 & 0.66\\\\\n",
       "\t  0 & 0 & No  & 3 & 0.89\\\\\n",
       "\t 50 & 5 & Yes & 1 & 0.51\\\\\n",
       "\t  0 & 3 & No  & 3 & 0.76\\\\\n",
       "\t 50 & 0 & Yes & 1 & 0.54\\\\\n",
       "\\end{tabular}\n"
      ],
      "text/markdown": [
       "\n",
       "A tibble: 6 × 5\n",
       "\n",
       "| Caffeine.consumption &lt;dbl&gt; | Alcohol.consumption &lt;dbl&gt; | Smoking.status &lt;chr&gt; | Exercise.frequency &lt;dbl&gt; | Sleep.efficiency &lt;dbl&gt; |\n",
       "|---|---|---|---|---|\n",
       "|  0 | 0 | Yes | 3 | 0.88 |\n",
       "|  0 | 3 | Yes | 3 | 0.66 |\n",
       "|  0 | 0 | No  | 3 | 0.89 |\n",
       "| 50 | 5 | Yes | 1 | 0.51 |\n",
       "|  0 | 3 | No  | 3 | 0.76 |\n",
       "| 50 | 0 | Yes | 1 | 0.54 |\n",
       "\n"
      ],
      "text/plain": [
       "  Caffeine.consumption Alcohol.consumption Smoking.status Exercise.frequency\n",
       "1  0                   0                   Yes            3                 \n",
       "2  0                   3                   Yes            3                 \n",
       "3  0                   0                   No             3                 \n",
       "4 50                   5                   Yes            1                 \n",
       "5  0                   3                   No             3                 \n",
       "6 50                   0                   Yes            1                 \n",
       "  Sleep.efficiency\n",
       "1 0.88            \n",
       "2 0.66            \n",
       "3 0.89            \n",
       "4 0.51            \n",
       "5 0.76            \n",
       "6 0.54            "
      ]
     },
     "metadata": {},
     "output_type": "display_data"
    }
   ],
   "source": [
    "data <- df_clean %>%\n",
    "select(Caffeine.consumption, Alcohol.consumption, Smoking.status, Exercise.frequency, Sleep.efficiency)\n",
    "head(data)"
   ]
  },
  {
   "cell_type": "markdown",
   "source": [
    "We discard ID because it doesn't carry any information on its own. We also discard Bedtime and Wakeup.time columns because their coefficients are insignificant in terms of predicting sleep efficiency. Then we produce a heatmap showing correlation between the columns."
   ],
   "metadata": {
    "collapsed": false
   }
  },
  {
   "cell_type": "code",
   "execution_count": null,
   "id": "cc0c6dde-73de-48d0-a86a-819c9161869d",
   "metadata": {},
   "outputs": [],
   "source": [
    "df_clean$Gender <- as.factor(df_clean$Gender)\n",
    "df_clean$Smoking.status <- as.factor(df_clean$Smoking.status)\n",
    "\n",
    "#delete ID column because it doesn't carry any information\n",
    "transformed_df <- df_clean %>% select(-ID)\n",
    "# discard Bedtime and wakeup.time\n",
    "transformed_df <- select(transformed_df, -Bedtime, -Wakeup.time)\n",
    "\n",
    "#extract numeric columns only\n",
    "numeric_df = transformed_df[, sapply(transformed_df, is.numeric)]\n",
    "# calculate their correlation\n",
    "cor_matrix <- cor(numeric_df, use = \"complete.obs\")\n",
    "#plot heatmap\n",
    "melted_cor_matrix <- melt(cor_matrix)\n",
    "ggplot(melted_cor_matrix, aes(Var1, Var2, fill = value)) +\n",
    "    geom_tile() +\n",
    "    scale_fill_gradient2(low = \"blue\", high = \"red\", mid = \"white\",\n",
    "                        midpoint = 0, limit = c(-1,1), space = \"Lab\",\n",
    "                        name=\"Pearson\\nCorrelation\") +\n",
    "    theme_minimal() +\n",
    "    theme(axis.text.x = element_text(angle = 45, hjust = 1),\n",
    "          axis.title = element_blank()) +\n",
    "    coord_fixed()\n"
   ]
  },
  {
   "cell_type": "markdown",
   "source": [
    "From the heatmap, we can see Deep.sleep.percentage is negatively correlated with Light.sleep.efficiency. We discard one of these columns to avoid rank deficient problem."
   ],
   "metadata": {
    "collapsed": false
   }
  },
  {
   "cell_type": "code",
   "execution_count": null,
   "outputs": [],
   "source": [
    "transformed_df <- select(transformed_df, -Light.sleep.percentage)"
   ],
   "metadata": {
    "collapsed": false
   }
  },
  {
   "cell_type": "markdown",
   "source": [
    "Then we plot the distributions of this feature columns. If later on, the residuals don't follow a normal distribution, we can apply transformation to these feature columns to fine-tune the model."
   ],
   "metadata": {
    "collapsed": false
   }
  },
  {
   "cell_type": "code",
   "execution_count": null,
   "outputs": [],
   "source": [
    "features <- c('Sleep.efficiency', 'Age', 'REM.sleep.percentage',\n",
    "              'Deep.sleep.percentage',\n",
    "              'Awakenings', 'Caffeine.consumption', 'Alcohol.consumption',\n",
    "              'Exercise.frequency')\n",
    "\n",
    "plots = list()\n",
    "\n",
    "for (feature in features) {\n",
    "  p1 <- ggplot(transformed_df, aes_string(x = feature)) +\n",
    "        geom_density(fill = \"blue\", alpha = 0.5) +\n",
    "        labs(title = paste('Distribution of', feature))\n",
    "\n",
    "  p2 <- ggplot(transformed_df, aes_string(y = feature)) +\n",
    "        geom_boxplot() +\n",
    "        labs(title = paste('Box Plot of', feature))\n",
    "        coord_flip()\n",
    "\n",
    "  plots[[length(plots) + 1]] <- p1\n",
    "  plots[[length(plots) + 1]] <- p2\n",
    "}\n",
    "\n",
    "#index into the plots list to check distribution of variables\n",
    "do.call(grid.arrange, c(plots[1:2]))"
   ],
   "metadata": {
    "collapsed": false
   }
  },
  {
   "cell_type": "markdown",
   "source": [
    "We can see Sleep.efficiency is left-skewed. Caffeine consumption, alcohol consumption and exercise frequency are right-skewed. We also check the distribution of smoking status below."
   ],
   "metadata": {
    "collapsed": false
   }
  },
  {
   "cell_type": "code",
   "execution_count": null,
   "outputs": [],
   "source": [
    "table(transformed_df$Smoking.status)"
   ],
   "metadata": {
    "collapsed": false
   }
  },
  {
   "cell_type": "markdown",
   "source": [
    "We then fit a multivariate linear regression model using the rest of features."
   ],
   "metadata": {
    "collapsed": false
   }
  },
  {
   "cell_type": "code",
   "execution_count": null,
   "outputs": [],
   "source": [
    "FullModel = lm(Sleep.efficiency~.,data = transformed_df)\n",
    "summary(FullModel)"
   ],
   "metadata": {
    "collapsed": false
   }
  },
  {
   "cell_type": "markdown",
   "source": [
    "This fullModel has a good multiple R-squared of 0.8051 and adjusted R-squared 0.7999. We can see the coefficients of Gender and sleep duration are insignificant. It might be better to remove these two features from the model. We confirm our choice of features by conducting an exhaustive search using regsubsets."
   ],
   "metadata": {
    "collapsed": false
   }
  },
  {
   "cell_type": "code",
   "execution_count": null,
   "outputs": [],
   "source": [
    "reg = regsubsets(Sleep.efficiency~., data = transformed_df, nvmax = 10)\n",
    "s_reg = summary(reg)\n",
    "cp_values = s_reg$cp\n",
    "num_predictors = seq(along = cp_values)\n",
    "plot(num_predictors, cp_values, type = \"b\", xlab = \"Number of Predictors\",\n",
    "     ylab = \"Cp\", main = \"Cp vs p\")\n",
    "abline(a=0,b=1)"
   ],
   "metadata": {
    "collapsed": false
   }
  },
  {
   "cell_type": "code",
   "execution_count": null,
   "outputs": [],
   "source": [
    "print(s_reg$which)"
   ],
   "metadata": {
    "collapsed": false
   }
  },
  {
   "cell_type": "markdown",
   "source": [
    "From Cp vs. P plot, p = 8 is a good choice because that's when cp is slightly below cp=c line.\n"
   ],
   "metadata": {
    "collapsed": false
   }
  },
  {
   "cell_type": "code",
   "execution_count": null,
   "outputs": [],
   "source": [
    "transformed_df = transformed_df %>% select(-Gender, -Sleep.duration)\n",
    "bestModel = lm(Sleep.efficiency~., data = transformed_df)\n",
    "summary(bestModel)\n",
    "kappa(bestModel)\n",
    "plot(bestModel)"
   ],
   "metadata": {
    "collapsed": false
   }
  },
  {
   "cell_type": "markdown",
   "source": [
    "From the summary, we see an increase in adjusted R-squared. We observe no obvious pattern in the Residual vs. Fitted values plot. QQ-plot of residuals shows that the residuals roughly follow a normal distribution. A kappa of 306.3695 suggests that we don't have severe problems with co-linearity."
   ],
   "metadata": {
    "collapsed": false
   }
  },
  {
   "cell_type": "code",
   "execution_count": null,
   "outputs": [],
   "source": [
    "which(abs(rstudent(bestModel))>3) ## No outliers\n",
    "which(cooks.distance(bestModel)>0.5) ## No influential points"
   ],
   "metadata": {
    "collapsed": false
   }
  },
  {
   "cell_type": "code",
   "execution_count": null,
   "outputs": [],
   "source": [
    "There are no outliers in residuals or data points with strong influence. This suggests our model is a good fit for predicting sleep.efficiency. Let's check the coefficients the features related to lifestyles."
   ],
   "metadata": {
    "collapsed": false
   }
  }
 ],
 "metadata": {
  "kernelspec": {
   "display_name": "R",
   "language": "R",
   "name": "ir"
  },
  "language_info": {
   "codemirror_mode": "r",
   "file_extension": ".r",
   "mimetype": "text/x-r-source",
   "name": "R",
   "pygments_lexer": "r",
   "version": "4.2.3"
  }
 },
 "nbformat": 4,
 "nbformat_minor": 5
}

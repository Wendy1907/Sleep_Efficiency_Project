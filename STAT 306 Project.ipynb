{
 "cells": [
  {
   "cell_type": "markdown",
   "id": "f3c37ab0-bef9-4b31-920c-d160e2adcdbe",
   "metadata": {
    "tags": []
   },
   "source": [
    "## STAT 306 Finding Relationships in Data\n",
    "\n",
    "### Group Project Report\n",
    "\n",
    "Group A2 - Tran Anh Thu Phung, Ena Gupta, Yihang He, Haiyue Lu\n",
    "\n",
    "### Import"
   ]
  },
  {
   "cell_type": "code",
   "execution_count": 1,
   "id": "82c72b08-c5e4-4930-81b8-e715689a7c8c",
   "metadata": {
    "tags": []
   },
   "outputs": [
    {
     "name": "stderr",
     "output_type": "stream",
     "text": [
      "── \u001b[1mAttaching core tidyverse packages\u001b[22m ──────────────────────── tidyverse 2.0.0 ──\n",
      "\u001b[32m✔\u001b[39m \u001b[34mdplyr    \u001b[39m 1.1.3     \u001b[32m✔\u001b[39m \u001b[34mreadr    \u001b[39m 2.1.4\n",
      "\u001b[32m✔\u001b[39m \u001b[34mforcats  \u001b[39m 1.0.0     \u001b[32m✔\u001b[39m \u001b[34mstringr  \u001b[39m 1.5.0\n",
      "\u001b[32m✔\u001b[39m \u001b[34mggplot2  \u001b[39m 3.4.3     \u001b[32m✔\u001b[39m \u001b[34mtibble   \u001b[39m 3.2.1\n",
      "\u001b[32m✔\u001b[39m \u001b[34mlubridate\u001b[39m 1.9.3     \u001b[32m✔\u001b[39m \u001b[34mtidyr    \u001b[39m 1.3.0\n",
      "\u001b[32m✔\u001b[39m \u001b[34mpurrr    \u001b[39m 1.0.2     \n",
      "── \u001b[1mConflicts\u001b[22m ────────────────────────────────────────── tidyverse_conflicts() ──\n",
      "\u001b[31m✖\u001b[39m \u001b[34mdplyr\u001b[39m::\u001b[32mfilter()\u001b[39m masks \u001b[34mstats\u001b[39m::filter()\n",
      "\u001b[31m✖\u001b[39m \u001b[34mdplyr\u001b[39m::\u001b[32mlag()\u001b[39m    masks \u001b[34mstats\u001b[39m::lag()\n",
      "\u001b[36mℹ\u001b[39m Use the conflicted package (\u001b[3m\u001b[34m<http://conflicted.r-lib.org/>\u001b[39m\u001b[23m) to force all conflicts to become errors\n",
      "\n",
      "Attaching package: ‘gridExtra’\n",
      "\n",
      "\n",
      "The following object is masked from ‘package:dplyr’:\n",
      "\n",
      "    combine\n",
      "\n",
      "\n"
     ]
    }
   ],
   "source": [
    "library(tidyverse)\n",
    "library(repr)\n",
    "library(broom)\n",
    "library(leaps)\n",
    "library(moderndive)\n",
    "library(gridExtra)\n",
    "library(grid)"
   ]
  },
  {
   "cell_type": "markdown",
   "id": "11bd09dc-c21a-42d6-8962-20a064a2de46",
   "metadata": {
    "tags": []
   },
   "source": [
    "### 1. Data:\n",
    "**1.1 Introduction:**\n",
    "\n",
    "Sleep is a fundamental aspect of human life, playing a critical role in our overall health and well-being. In today’s fast-paced world, many individuals struggle with sleep-related issues, such as insomnia, sleep disturbances, and reduced sleep efficiency. To understand how lifestyle factors impact sleep efficiency, in this project, we will use a data set from Kaggle to help individuals make informed choices to improve their sleep quality and overall health.\n",
    "\n",
    "**1.2 Loading the Sleep Efficiency data**\n",
    "\n",
    "To read the dataset in R, we will read the dataset from the web into R. "
   ]
  },
  {
   "cell_type": "code",
   "execution_count": 2,
   "id": "e45f0727-286a-4798-bf74-4611c570b2aa",
   "metadata": {
    "tags": []
   },
   "outputs": [
    {
     "name": "stderr",
     "output_type": "stream",
     "text": [
      "\u001b[1mRows: \u001b[22m\u001b[34m452\u001b[39m \u001b[1mColumns: \u001b[22m\u001b[34m15\u001b[39m\n",
      "\u001b[36m──\u001b[39m \u001b[1mColumn specification\u001b[22m \u001b[36m────────────────────────────────────────────────────────\u001b[39m\n",
      "\u001b[1mDelimiter:\u001b[22m \",\"\n",
      "\u001b[31mchr\u001b[39m   (2): Gender, Smoking status\n",
      "\u001b[32mdbl\u001b[39m  (11): ID, Age, Sleep duration, Sleep efficiency, REM sleep percentage, ...\n",
      "\u001b[34mdttm\u001b[39m  (2): Bedtime, Wakeup time\n",
      "\n",
      "\u001b[36mℹ\u001b[39m Use `spec()` to retrieve the full column specification for this data.\n",
      "\u001b[36mℹ\u001b[39m Specify the column types or set `show_col_types = FALSE` to quiet this message.\n"
     ]
    },
    {
     "data": {
      "text/html": [
       "<table class=\"dataframe\">\n",
       "<caption>A tibble: 6 × 15</caption>\n",
       "<thead>\n",
       "\t<tr><th scope=col>ID</th><th scope=col>Age</th><th scope=col>Gender</th><th scope=col>Bedtime</th><th scope=col>Wakeup time</th><th scope=col>Sleep duration</th><th scope=col>Sleep efficiency</th><th scope=col>REM sleep percentage</th><th scope=col>Deep sleep percentage</th><th scope=col>Light sleep percentage</th><th scope=col>Awakenings</th><th scope=col>Caffeine consumption</th><th scope=col>Alcohol consumption</th><th scope=col>Smoking status</th><th scope=col>Exercise frequency</th></tr>\n",
       "\t<tr><th scope=col>&lt;dbl&gt;</th><th scope=col>&lt;dbl&gt;</th><th scope=col>&lt;chr&gt;</th><th scope=col>&lt;dttm&gt;</th><th scope=col>&lt;dttm&gt;</th><th scope=col>&lt;dbl&gt;</th><th scope=col>&lt;dbl&gt;</th><th scope=col>&lt;dbl&gt;</th><th scope=col>&lt;dbl&gt;</th><th scope=col>&lt;dbl&gt;</th><th scope=col>&lt;dbl&gt;</th><th scope=col>&lt;dbl&gt;</th><th scope=col>&lt;dbl&gt;</th><th scope=col>&lt;chr&gt;</th><th scope=col>&lt;dbl&gt;</th></tr>\n",
       "</thead>\n",
       "<tbody>\n",
       "\t<tr><td>1</td><td>65</td><td>Female</td><td>2021-03-06 01:00:00</td><td>2021-03-06 07:00:00</td><td>6.0</td><td>0.88</td><td>18</td><td>70</td><td>12</td><td>0</td><td> 0</td><td>0</td><td>Yes</td><td>3</td></tr>\n",
       "\t<tr><td>2</td><td>69</td><td>Male  </td><td>2021-12-05 02:00:00</td><td>2021-12-05 09:00:00</td><td>7.0</td><td>0.66</td><td>19</td><td>28</td><td>53</td><td>3</td><td> 0</td><td>3</td><td>Yes</td><td>3</td></tr>\n",
       "\t<tr><td>3</td><td>40</td><td>Female</td><td>2021-05-25 21:30:00</td><td>2021-05-25 05:30:00</td><td>8.0</td><td>0.89</td><td>20</td><td>70</td><td>10</td><td>1</td><td> 0</td><td>0</td><td>No </td><td>3</td></tr>\n",
       "\t<tr><td>4</td><td>40</td><td>Female</td><td>2021-11-03 02:30:00</td><td>2021-11-03 08:30:00</td><td>6.0</td><td>0.51</td><td>23</td><td>25</td><td>52</td><td>3</td><td>50</td><td>5</td><td>Yes</td><td>1</td></tr>\n",
       "\t<tr><td>5</td><td>57</td><td>Male  </td><td>2021-03-13 01:00:00</td><td>2021-03-13 09:00:00</td><td>8.0</td><td>0.76</td><td>27</td><td>55</td><td>18</td><td>3</td><td> 0</td><td>3</td><td>No </td><td>3</td></tr>\n",
       "\t<tr><td>6</td><td>36</td><td>Female</td><td>2021-07-01 21:00:00</td><td>2021-07-01 04:30:00</td><td>7.5</td><td>0.90</td><td>23</td><td>60</td><td>17</td><td>0</td><td>NA</td><td>0</td><td>No </td><td>1</td></tr>\n",
       "</tbody>\n",
       "</table>\n"
      ],
      "text/latex": [
       "A tibble: 6 × 15\n",
       "\\begin{tabular}{lllllllllllllll}\n",
       " ID & Age & Gender & Bedtime & Wakeup time & Sleep duration & Sleep efficiency & REM sleep percentage & Deep sleep percentage & Light sleep percentage & Awakenings & Caffeine consumption & Alcohol consumption & Smoking status & Exercise frequency\\\\\n",
       " <dbl> & <dbl> & <chr> & <dttm> & <dttm> & <dbl> & <dbl> & <dbl> & <dbl> & <dbl> & <dbl> & <dbl> & <dbl> & <chr> & <dbl>\\\\\n",
       "\\hline\n",
       "\t 1 & 65 & Female & 2021-03-06 01:00:00 & 2021-03-06 07:00:00 & 6.0 & 0.88 & 18 & 70 & 12 & 0 &  0 & 0 & Yes & 3\\\\\n",
       "\t 2 & 69 & Male   & 2021-12-05 02:00:00 & 2021-12-05 09:00:00 & 7.0 & 0.66 & 19 & 28 & 53 & 3 &  0 & 3 & Yes & 3\\\\\n",
       "\t 3 & 40 & Female & 2021-05-25 21:30:00 & 2021-05-25 05:30:00 & 8.0 & 0.89 & 20 & 70 & 10 & 1 &  0 & 0 & No  & 3\\\\\n",
       "\t 4 & 40 & Female & 2021-11-03 02:30:00 & 2021-11-03 08:30:00 & 6.0 & 0.51 & 23 & 25 & 52 & 3 & 50 & 5 & Yes & 1\\\\\n",
       "\t 5 & 57 & Male   & 2021-03-13 01:00:00 & 2021-03-13 09:00:00 & 8.0 & 0.76 & 27 & 55 & 18 & 3 &  0 & 3 & No  & 3\\\\\n",
       "\t 6 & 36 & Female & 2021-07-01 21:00:00 & 2021-07-01 04:30:00 & 7.5 & 0.90 & 23 & 60 & 17 & 0 & NA & 0 & No  & 1\\\\\n",
       "\\end{tabular}\n"
      ],
      "text/markdown": [
       "\n",
       "A tibble: 6 × 15\n",
       "\n",
       "| ID &lt;dbl&gt; | Age &lt;dbl&gt; | Gender &lt;chr&gt; | Bedtime &lt;dttm&gt; | Wakeup time &lt;dttm&gt; | Sleep duration &lt;dbl&gt; | Sleep efficiency &lt;dbl&gt; | REM sleep percentage &lt;dbl&gt; | Deep sleep percentage &lt;dbl&gt; | Light sleep percentage &lt;dbl&gt; | Awakenings &lt;dbl&gt; | Caffeine consumption &lt;dbl&gt; | Alcohol consumption &lt;dbl&gt; | Smoking status &lt;chr&gt; | Exercise frequency &lt;dbl&gt; |\n",
       "|---|---|---|---|---|---|---|---|---|---|---|---|---|---|---|\n",
       "| 1 | 65 | Female | 2021-03-06 01:00:00 | 2021-03-06 07:00:00 | 6.0 | 0.88 | 18 | 70 | 12 | 0 |  0 | 0 | Yes | 3 |\n",
       "| 2 | 69 | Male   | 2021-12-05 02:00:00 | 2021-12-05 09:00:00 | 7.0 | 0.66 | 19 | 28 | 53 | 3 |  0 | 3 | Yes | 3 |\n",
       "| 3 | 40 | Female | 2021-05-25 21:30:00 | 2021-05-25 05:30:00 | 8.0 | 0.89 | 20 | 70 | 10 | 1 |  0 | 0 | No  | 3 |\n",
       "| 4 | 40 | Female | 2021-11-03 02:30:00 | 2021-11-03 08:30:00 | 6.0 | 0.51 | 23 | 25 | 52 | 3 | 50 | 5 | Yes | 1 |\n",
       "| 5 | 57 | Male   | 2021-03-13 01:00:00 | 2021-03-13 09:00:00 | 8.0 | 0.76 | 27 | 55 | 18 | 3 |  0 | 3 | No  | 3 |\n",
       "| 6 | 36 | Female | 2021-07-01 21:00:00 | 2021-07-01 04:30:00 | 7.5 | 0.90 | 23 | 60 | 17 | 0 | NA | 0 | No  | 1 |\n",
       "\n"
      ],
      "text/plain": [
       "  ID Age Gender Bedtime             Wakeup time         Sleep duration\n",
       "1 1  65  Female 2021-03-06 01:00:00 2021-03-06 07:00:00 6.0           \n",
       "2 2  69  Male   2021-12-05 02:00:00 2021-12-05 09:00:00 7.0           \n",
       "3 3  40  Female 2021-05-25 21:30:00 2021-05-25 05:30:00 8.0           \n",
       "4 4  40  Female 2021-11-03 02:30:00 2021-11-03 08:30:00 6.0           \n",
       "5 5  57  Male   2021-03-13 01:00:00 2021-03-13 09:00:00 8.0           \n",
       "6 6  36  Female 2021-07-01 21:00:00 2021-07-01 04:30:00 7.5           \n",
       "  Sleep efficiency REM sleep percentage Deep sleep percentage\n",
       "1 0.88             18                   70                   \n",
       "2 0.66             19                   28                   \n",
       "3 0.89             20                   70                   \n",
       "4 0.51             23                   25                   \n",
       "5 0.76             27                   55                   \n",
       "6 0.90             23                   60                   \n",
       "  Light sleep percentage Awakenings Caffeine consumption Alcohol consumption\n",
       "1 12                     0           0                   0                  \n",
       "2 53                     3           0                   3                  \n",
       "3 10                     1           0                   0                  \n",
       "4 52                     3          50                   5                  \n",
       "5 18                     3           0                   3                  \n",
       "6 17                     0          NA                   0                  \n",
       "  Smoking status Exercise frequency\n",
       "1 Yes            3                 \n",
       "2 Yes            3                 \n",
       "3 No             3                 \n",
       "4 Yes            1                 \n",
       "5 No             3                 \n",
       "6 No             1                 "
      ]
     },
     "metadata": {},
     "output_type": "display_data"
    }
   ],
   "source": [
    "url <- \"https://raw.githubusercontent.com/Wendy1907/Sleep_Efficiency_Project/main/Sleep_Efficiency.csv\"\n",
    "df <- read_csv(url)\n",
    "head(df)"
   ]
  },
  {
   "cell_type": "markdown",
   "id": "838d6635-93e9-4494-9c92-9424d933fe85",
   "metadata": {},
   "source": [
    "**1.3 Data Summary**\n",
    "\n",
    "The dataset contains **452 observations** in total with **15 columns** including ID.\n",
    "\n",
    "| Variable Name      | Type of Variable | Explanation |\n",
    "| ----------- | :-----------: | ----------- |\n",
    "| `ID`     | int       | A unique identifier for each test subject. |\n",
    "| `Age`   | int        | The age of the test subjects with a minimum value of 9 years old, a maximum value of 69 years old, and a mean of about 40 years old.|\n",
    "| `Gender`   | chr       | The gender of the test subject, e.g., Male or Female. |\n",
    "| `Bedtime`   | chr        |Indicate when each subject goes to bed, with the date and time.|\n",
    "| `Wakeup time`   | chr        | Indicate when each subject wakes up each day, with the date and time.|\n",
    "| `Sleep duration`   | dbl        | Records the total amount of time each subject slept in hours, with a minimum value of 5 hours, a maximum duration of 10 hours, and an average of 7.47 hours.|\n",
    "| `Sleep efficiency`   | dbl       | A measure of the proportion of time spent in bed that is spent asleep, with a minimum weight of 50%, maximum of 99% and average of 78.89%.|\n",
    "| `REM sleep percentage`   | int        | Amount of time (in percentage) each subject spent in the stage of REM sleep. Minimum of 15%, maximum of 30% and mean of 22.61%.|\n",
    "| `Deep sleep percentage`   | int        | Amount of time (in percentage) each subject spent in the stage of deep sleep. Minimum of 18%, maximum of 75% and mean of 52.82%.|\n",
    "| `Light sleep percentage`   | int        | Amount of time (in percentage) each subject spent in the stage of light sleep. Minimum of 7%, maximum of 63% and mean of 24.56%.|\n",
    "| `Awakenings`   | dbl        | Record the number of times each subject wakes up during the night. There are a total of 20 null variables, with a minimum of 0 times, a maximum of 4 times, and a mean of 1.64.|\n",
    "| `Caffeine consumption`   | dbl        | The amount of caffeine consumed in the 24 hours before bedtime (in mg), with 25 null variables. |\n",
    "| `Alcohol consumption`   | dbl        | The amount of alcohol consumed in the 24 hours before bedtime (in oz), with 14 null variables. |\n",
    "| `Smoking status`   | chr        | The smoking status of the test subject, whether they smoke or not. |\n",
    "| `Exercise frequency`   | dbl        | The number of times the test subject exercises each week. With 6 null variables, with a mean of 1.79, minimum of 0 and maximum of 5 times a week. |\n",
    "\n",
    "### 2. Research Question:\n",
    "\n",
    "Can sleep efficiency be improved through lifestyle interventions(caffeine consumption, alcohol consumption, smoking status, exercise frequency), and what are the most effective strategies for enhancing sleep quality?\n",
    "\n",
    "### 3. Cleaning and Warngling the dataset:\n",
    "\n",
    "#### 3.1 Cleaning the dataset:\n",
    "\n",
    "**3.1.1 Rename columns**\n",
    "\n",
    "Since the columns name have space in the middle, then, we decided to rename them."
   ]
  },
  {
   "cell_type": "code",
   "execution_count": 3,
   "id": "1ca21493-d386-4fae-a51b-9baf4e4836aa",
   "metadata": {
    "tags": []
   },
   "outputs": [
    {
     "data": {
      "text/html": [
       "<table class=\"dataframe\">\n",
       "<caption>A tibble: 6 × 15</caption>\n",
       "<thead>\n",
       "\t<tr><th scope=col>ID</th><th scope=col>Age</th><th scope=col>Gender</th><th scope=col>Bedtime</th><th scope=col>Wakeup.time</th><th scope=col>Sleep.duration</th><th scope=col>Sleep.efficiency</th><th scope=col>REM.sleep.percentage</th><th scope=col>Deep.sleep.percentage</th><th scope=col>Light.sleep.percentage</th><th scope=col>Awakenings</th><th scope=col>Caffeine.consumption</th><th scope=col>Alcohol.consumption</th><th scope=col>Smoking.status</th><th scope=col>Exercise.frequency</th></tr>\n",
       "\t<tr><th scope=col>&lt;dbl&gt;</th><th scope=col>&lt;dbl&gt;</th><th scope=col>&lt;chr&gt;</th><th scope=col>&lt;dttm&gt;</th><th scope=col>&lt;dttm&gt;</th><th scope=col>&lt;dbl&gt;</th><th scope=col>&lt;dbl&gt;</th><th scope=col>&lt;dbl&gt;</th><th scope=col>&lt;dbl&gt;</th><th scope=col>&lt;dbl&gt;</th><th scope=col>&lt;dbl&gt;</th><th scope=col>&lt;dbl&gt;</th><th scope=col>&lt;dbl&gt;</th><th scope=col>&lt;chr&gt;</th><th scope=col>&lt;dbl&gt;</th></tr>\n",
       "</thead>\n",
       "<tbody>\n",
       "\t<tr><td>1</td><td>65</td><td>Female</td><td>2021-03-06 01:00:00</td><td>2021-03-06 07:00:00</td><td>6.0</td><td>0.88</td><td>18</td><td>70</td><td>12</td><td>0</td><td> 0</td><td>0</td><td>Yes</td><td>3</td></tr>\n",
       "\t<tr><td>2</td><td>69</td><td>Male  </td><td>2021-12-05 02:00:00</td><td>2021-12-05 09:00:00</td><td>7.0</td><td>0.66</td><td>19</td><td>28</td><td>53</td><td>3</td><td> 0</td><td>3</td><td>Yes</td><td>3</td></tr>\n",
       "\t<tr><td>3</td><td>40</td><td>Female</td><td>2021-05-25 21:30:00</td><td>2021-05-25 05:30:00</td><td>8.0</td><td>0.89</td><td>20</td><td>70</td><td>10</td><td>1</td><td> 0</td><td>0</td><td>No </td><td>3</td></tr>\n",
       "\t<tr><td>4</td><td>40</td><td>Female</td><td>2021-11-03 02:30:00</td><td>2021-11-03 08:30:00</td><td>6.0</td><td>0.51</td><td>23</td><td>25</td><td>52</td><td>3</td><td>50</td><td>5</td><td>Yes</td><td>1</td></tr>\n",
       "\t<tr><td>5</td><td>57</td><td>Male  </td><td>2021-03-13 01:00:00</td><td>2021-03-13 09:00:00</td><td>8.0</td><td>0.76</td><td>27</td><td>55</td><td>18</td><td>3</td><td> 0</td><td>3</td><td>No </td><td>3</td></tr>\n",
       "\t<tr><td>6</td><td>36</td><td>Female</td><td>2021-07-01 21:00:00</td><td>2021-07-01 04:30:00</td><td>7.5</td><td>0.90</td><td>23</td><td>60</td><td>17</td><td>0</td><td>NA</td><td>0</td><td>No </td><td>1</td></tr>\n",
       "</tbody>\n",
       "</table>\n"
      ],
      "text/latex": [
       "A tibble: 6 × 15\n",
       "\\begin{tabular}{lllllllllllllll}\n",
       " ID & Age & Gender & Bedtime & Wakeup.time & Sleep.duration & Sleep.efficiency & REM.sleep.percentage & Deep.sleep.percentage & Light.sleep.percentage & Awakenings & Caffeine.consumption & Alcohol.consumption & Smoking.status & Exercise.frequency\\\\\n",
       " <dbl> & <dbl> & <chr> & <dttm> & <dttm> & <dbl> & <dbl> & <dbl> & <dbl> & <dbl> & <dbl> & <dbl> & <dbl> & <chr> & <dbl>\\\\\n",
       "\\hline\n",
       "\t 1 & 65 & Female & 2021-03-06 01:00:00 & 2021-03-06 07:00:00 & 6.0 & 0.88 & 18 & 70 & 12 & 0 &  0 & 0 & Yes & 3\\\\\n",
       "\t 2 & 69 & Male   & 2021-12-05 02:00:00 & 2021-12-05 09:00:00 & 7.0 & 0.66 & 19 & 28 & 53 & 3 &  0 & 3 & Yes & 3\\\\\n",
       "\t 3 & 40 & Female & 2021-05-25 21:30:00 & 2021-05-25 05:30:00 & 8.0 & 0.89 & 20 & 70 & 10 & 1 &  0 & 0 & No  & 3\\\\\n",
       "\t 4 & 40 & Female & 2021-11-03 02:30:00 & 2021-11-03 08:30:00 & 6.0 & 0.51 & 23 & 25 & 52 & 3 & 50 & 5 & Yes & 1\\\\\n",
       "\t 5 & 57 & Male   & 2021-03-13 01:00:00 & 2021-03-13 09:00:00 & 8.0 & 0.76 & 27 & 55 & 18 & 3 &  0 & 3 & No  & 3\\\\\n",
       "\t 6 & 36 & Female & 2021-07-01 21:00:00 & 2021-07-01 04:30:00 & 7.5 & 0.90 & 23 & 60 & 17 & 0 & NA & 0 & No  & 1\\\\\n",
       "\\end{tabular}\n"
      ],
      "text/markdown": [
       "\n",
       "A tibble: 6 × 15\n",
       "\n",
       "| ID &lt;dbl&gt; | Age &lt;dbl&gt; | Gender &lt;chr&gt; | Bedtime &lt;dttm&gt; | Wakeup.time &lt;dttm&gt; | Sleep.duration &lt;dbl&gt; | Sleep.efficiency &lt;dbl&gt; | REM.sleep.percentage &lt;dbl&gt; | Deep.sleep.percentage &lt;dbl&gt; | Light.sleep.percentage &lt;dbl&gt; | Awakenings &lt;dbl&gt; | Caffeine.consumption &lt;dbl&gt; | Alcohol.consumption &lt;dbl&gt; | Smoking.status &lt;chr&gt; | Exercise.frequency &lt;dbl&gt; |\n",
       "|---|---|---|---|---|---|---|---|---|---|---|---|---|---|---|\n",
       "| 1 | 65 | Female | 2021-03-06 01:00:00 | 2021-03-06 07:00:00 | 6.0 | 0.88 | 18 | 70 | 12 | 0 |  0 | 0 | Yes | 3 |\n",
       "| 2 | 69 | Male   | 2021-12-05 02:00:00 | 2021-12-05 09:00:00 | 7.0 | 0.66 | 19 | 28 | 53 | 3 |  0 | 3 | Yes | 3 |\n",
       "| 3 | 40 | Female | 2021-05-25 21:30:00 | 2021-05-25 05:30:00 | 8.0 | 0.89 | 20 | 70 | 10 | 1 |  0 | 0 | No  | 3 |\n",
       "| 4 | 40 | Female | 2021-11-03 02:30:00 | 2021-11-03 08:30:00 | 6.0 | 0.51 | 23 | 25 | 52 | 3 | 50 | 5 | Yes | 1 |\n",
       "| 5 | 57 | Male   | 2021-03-13 01:00:00 | 2021-03-13 09:00:00 | 8.0 | 0.76 | 27 | 55 | 18 | 3 |  0 | 3 | No  | 3 |\n",
       "| 6 | 36 | Female | 2021-07-01 21:00:00 | 2021-07-01 04:30:00 | 7.5 | 0.90 | 23 | 60 | 17 | 0 | NA | 0 | No  | 1 |\n",
       "\n"
      ],
      "text/plain": [
       "  ID Age Gender Bedtime             Wakeup.time         Sleep.duration\n",
       "1 1  65  Female 2021-03-06 01:00:00 2021-03-06 07:00:00 6.0           \n",
       "2 2  69  Male   2021-12-05 02:00:00 2021-12-05 09:00:00 7.0           \n",
       "3 3  40  Female 2021-05-25 21:30:00 2021-05-25 05:30:00 8.0           \n",
       "4 4  40  Female 2021-11-03 02:30:00 2021-11-03 08:30:00 6.0           \n",
       "5 5  57  Male   2021-03-13 01:00:00 2021-03-13 09:00:00 8.0           \n",
       "6 6  36  Female 2021-07-01 21:00:00 2021-07-01 04:30:00 7.5           \n",
       "  Sleep.efficiency REM.sleep.percentage Deep.sleep.percentage\n",
       "1 0.88             18                   70                   \n",
       "2 0.66             19                   28                   \n",
       "3 0.89             20                   70                   \n",
       "4 0.51             23                   25                   \n",
       "5 0.76             27                   55                   \n",
       "6 0.90             23                   60                   \n",
       "  Light.sleep.percentage Awakenings Caffeine.consumption Alcohol.consumption\n",
       "1 12                     0           0                   0                  \n",
       "2 53                     3           0                   3                  \n",
       "3 10                     1           0                   0                  \n",
       "4 52                     3          50                   5                  \n",
       "5 18                     3           0                   3                  \n",
       "6 17                     0          NA                   0                  \n",
       "  Smoking.status Exercise.frequency\n",
       "1 Yes            3                 \n",
       "2 Yes            3                 \n",
       "3 No             3                 \n",
       "4 Yes            1                 \n",
       "5 No             3                 \n",
       "6 No             1                 "
      ]
     },
     "metadata": {},
     "output_type": "display_data"
    }
   ],
   "source": [
    "df <- df %>% \n",
    "        rename(\"Wakeup.time\" = \"Wakeup time\",\n",
    "               \"Sleep.duration\" = \"Sleep duration\",\n",
    "               \"Sleep.efficiency\" = \"Sleep efficiency\",\n",
    "               \"REM.sleep.percentage\" = \"REM sleep percentage\",\n",
    "               \"Deep.sleep.percentage\" = \"Deep sleep percentage\",\n",
    "               \"Light.sleep.percentage\" = \"Light sleep percentage\",\n",
    "               \"Caffeine.consumption\" = \"Caffeine consumption\",\n",
    "               \"Alcohol.consumption\" = \"Alcohol consumption\",\n",
    "               \"Smoking.status\" = \"Smoking status\",\n",
    "               \"Exercise.frequency\" = \"Exercise frequency\"\n",
    "              )\n",
    "head(df)"
   ]
  },
  {
   "cell_type": "markdown",
   "id": "015ce387-706c-48a9-8338-a82ceaeeff74",
   "metadata": {},
   "source": [
    "**3.1.2 Finding Null variables**\n",
    "\n",
    "First, we have to check if the data contains any null or `N/A` value or not"
   ]
  },
  {
   "cell_type": "code",
   "execution_count": 4,
   "id": "56a29708-a19b-4189-804c-57c830829f44",
   "metadata": {
    "tags": []
   },
   "outputs": [
    {
     "data": {
      "text/html": [
       "65"
      ],
      "text/latex": [
       "65"
      ],
      "text/markdown": [
       "65"
      ],
      "text/plain": [
       "[1] 65"
      ]
     },
     "metadata": {},
     "output_type": "display_data"
    }
   ],
   "source": [
    "sum(is.na(df))"
   ]
  },
  {
   "cell_type": "markdown",
   "id": "f0aa7fd1-96b1-4d19-80cf-cf32977ac0f5",
   "metadata": {},
   "source": [
    "The function `is.na` which will identify the null value giving out the result that there are 65 null variables in our dataset. We want to take a look deeper to see which columns contain these null variables."
   ]
  },
  {
   "cell_type": "code",
   "execution_count": 5,
   "id": "e43acc77-a3ad-4d68-938b-40a4b0e4107d",
   "metadata": {
    "tags": []
   },
   "outputs": [
    {
     "data": {
      "text/html": [
       "<style>\n",
       ".dl-inline {width: auto; margin:0; padding: 0}\n",
       ".dl-inline>dt, .dl-inline>dd {float: none; width: auto; display: inline-block}\n",
       ".dl-inline>dt::after {content: \":\\0020\"; padding-right: .5ex}\n",
       ".dl-inline>dt:not(:first-of-type) {padding-left: .5ex}\n",
       "</style><dl class=dl-inline><dt>ID</dt><dd>0</dd><dt>Age</dt><dd>0</dd><dt>Gender</dt><dd>0</dd><dt>Bedtime</dt><dd>0</dd><dt>Wakeup.time</dt><dd>0</dd><dt>Sleep.duration</dt><dd>0</dd><dt>Sleep.efficiency</dt><dd>0</dd><dt>REM.sleep.percentage</dt><dd>0</dd><dt>Deep.sleep.percentage</dt><dd>0</dd><dt>Light.sleep.percentage</dt><dd>0</dd><dt>Awakenings</dt><dd>20</dd><dt>Caffeine.consumption</dt><dd>25</dd><dt>Alcohol.consumption</dt><dd>14</dd><dt>Smoking.status</dt><dd>0</dd><dt>Exercise.frequency</dt><dd>6</dd></dl>\n"
      ],
      "text/latex": [
       "\\begin{description*}\n",
       "\\item[ID] 0\n",
       "\\item[Age] 0\n",
       "\\item[Gender] 0\n",
       "\\item[Bedtime] 0\n",
       "\\item[Wakeup.time] 0\n",
       "\\item[Sleep.duration] 0\n",
       "\\item[Sleep.efficiency] 0\n",
       "\\item[REM.sleep.percentage] 0\n",
       "\\item[Deep.sleep.percentage] 0\n",
       "\\item[Light.sleep.percentage] 0\n",
       "\\item[Awakenings] 20\n",
       "\\item[Caffeine.consumption] 25\n",
       "\\item[Alcohol.consumption] 14\n",
       "\\item[Smoking.status] 0\n",
       "\\item[Exercise.frequency] 6\n",
       "\\end{description*}\n"
      ],
      "text/markdown": [
       "ID\n",
       ":   0Age\n",
       ":   0Gender\n",
       ":   0Bedtime\n",
       ":   0Wakeup.time\n",
       ":   0Sleep.duration\n",
       ":   0Sleep.efficiency\n",
       ":   0REM.sleep.percentage\n",
       ":   0Deep.sleep.percentage\n",
       ":   0Light.sleep.percentage\n",
       ":   0Awakenings\n",
       ":   20Caffeine.consumption\n",
       ":   25Alcohol.consumption\n",
       ":   14Smoking.status\n",
       ":   0Exercise.frequency\n",
       ":   6\n",
       "\n"
      ],
      "text/plain": [
       "                    ID                    Age                 Gender \n",
       "                     0                      0                      0 \n",
       "               Bedtime            Wakeup.time         Sleep.duration \n",
       "                     0                      0                      0 \n",
       "      Sleep.efficiency   REM.sleep.percentage  Deep.sleep.percentage \n",
       "                     0                      0                      0 \n",
       "Light.sleep.percentage             Awakenings   Caffeine.consumption \n",
       "                     0                     20                     25 \n",
       "   Alcohol.consumption         Smoking.status     Exercise.frequency \n",
       "                    14                      0                      6 "
      ]
     },
     "metadata": {},
     "output_type": "display_data"
    }
   ],
   "source": [
    "colSums(is.na(df))"
   ]
  },
  {
   "cell_type": "markdown",
   "id": "658a4643-6aea-46ca-9bf3-03b8afe18647",
   "metadata": {},
   "source": [
    "Based on the summary above, we can see that there are total 20 null variables in `Awakenings` columns, 25 in `Caffeine consumption`, 14 in `Alcohol consumption`, and 6 in `Exercise frequency` in total. Then, we decided to remove those null values from our dataset."
   ]
  },
  {
   "cell_type": "code",
   "execution_count": 6,
   "id": "94a7a75f-b54c-465d-8cee-38c07f164c3e",
   "metadata": {
    "tags": []
   },
   "outputs": [],
   "source": [
    "df_clean <- df %>% drop_na(Awakenings, Caffeine.consumption, Alcohol.consumption, Exercise.frequency)"
   ]
  },
  {
   "cell_type": "markdown",
   "id": "5ac273c6-c1a8-4aa9-b257-4d1fdff12cde",
   "metadata": {},
   "source": [
    "**3.1.3 Finding duplicate values**\n",
    "\n",
    "Next step, we are going to check whether the data have filtered null values have duplicate value or not."
   ]
  },
  {
   "cell_type": "code",
   "execution_count": 7,
   "id": "2cf9241a-a78e-4ace-b721-eabb0f94aeca",
   "metadata": {
    "tags": []
   },
   "outputs": [
    {
     "data": {
      "text/html": [
       "0"
      ],
      "text/latex": [
       "0"
      ],
      "text/markdown": [
       "0"
      ],
      "text/plain": [
       "[1] 0"
      ]
     },
     "metadata": {},
     "output_type": "display_data"
    }
   ],
   "source": [
    "sum(duplicated(df_clean))"
   ]
  },
  {
   "cell_type": "markdown",
   "id": "e57c6067-d279-4004-bede-07b983178642",
   "metadata": {},
   "source": [
    "In this dataset, we can see that there is no duplicate value.\n",
    "\n",
    "Then, we have got a clean dataset. The clean dataset that we have gained is contain total of **388 observations** and **15 different columns**."
   ]
  },
  {
   "cell_type": "code",
   "execution_count": 8,
   "id": "9362f565-9235-4a4f-8e18-d5f43da2ed03",
   "metadata": {
    "tags": []
   },
   "outputs": [
    {
     "data": {
      "text/html": [
       "<table class=\"dataframe\">\n",
       "<caption>A tibble: 6 × 15</caption>\n",
       "<thead>\n",
       "\t<tr><th scope=col>ID</th><th scope=col>Age</th><th scope=col>Gender</th><th scope=col>Bedtime</th><th scope=col>Wakeup.time</th><th scope=col>Sleep.duration</th><th scope=col>Sleep.efficiency</th><th scope=col>REM.sleep.percentage</th><th scope=col>Deep.sleep.percentage</th><th scope=col>Light.sleep.percentage</th><th scope=col>Awakenings</th><th scope=col>Caffeine.consumption</th><th scope=col>Alcohol.consumption</th><th scope=col>Smoking.status</th><th scope=col>Exercise.frequency</th></tr>\n",
       "\t<tr><th scope=col>&lt;dbl&gt;</th><th scope=col>&lt;dbl&gt;</th><th scope=col>&lt;chr&gt;</th><th scope=col>&lt;dttm&gt;</th><th scope=col>&lt;dttm&gt;</th><th scope=col>&lt;dbl&gt;</th><th scope=col>&lt;dbl&gt;</th><th scope=col>&lt;dbl&gt;</th><th scope=col>&lt;dbl&gt;</th><th scope=col>&lt;dbl&gt;</th><th scope=col>&lt;dbl&gt;</th><th scope=col>&lt;dbl&gt;</th><th scope=col>&lt;dbl&gt;</th><th scope=col>&lt;chr&gt;</th><th scope=col>&lt;dbl&gt;</th></tr>\n",
       "</thead>\n",
       "<tbody>\n",
       "\t<tr><td>1</td><td>65</td><td>Female</td><td>2021-03-06 01:00:00</td><td>2021-03-06 07:00:00</td><td>6</td><td>0.88</td><td>18</td><td>70</td><td>12</td><td>0</td><td> 0</td><td>0</td><td>Yes</td><td>3</td></tr>\n",
       "\t<tr><td>2</td><td>69</td><td>Male  </td><td>2021-12-05 02:00:00</td><td>2021-12-05 09:00:00</td><td>7</td><td>0.66</td><td>19</td><td>28</td><td>53</td><td>3</td><td> 0</td><td>3</td><td>Yes</td><td>3</td></tr>\n",
       "\t<tr><td>3</td><td>40</td><td>Female</td><td>2021-05-25 21:30:00</td><td>2021-05-25 05:30:00</td><td>8</td><td>0.89</td><td>20</td><td>70</td><td>10</td><td>1</td><td> 0</td><td>0</td><td>No </td><td>3</td></tr>\n",
       "\t<tr><td>4</td><td>40</td><td>Female</td><td>2021-11-03 02:30:00</td><td>2021-11-03 08:30:00</td><td>6</td><td>0.51</td><td>23</td><td>25</td><td>52</td><td>3</td><td>50</td><td>5</td><td>Yes</td><td>1</td></tr>\n",
       "\t<tr><td>5</td><td>57</td><td>Male  </td><td>2021-03-13 01:00:00</td><td>2021-03-13 09:00:00</td><td>8</td><td>0.76</td><td>27</td><td>55</td><td>18</td><td>3</td><td> 0</td><td>3</td><td>No </td><td>3</td></tr>\n",
       "\t<tr><td>7</td><td>27</td><td>Female</td><td>2021-07-21 21:00:00</td><td>2021-07-21 03:00:00</td><td>6</td><td>0.54</td><td>28</td><td>25</td><td>47</td><td>2</td><td>50</td><td>0</td><td>Yes</td><td>1</td></tr>\n",
       "</tbody>\n",
       "</table>\n"
      ],
      "text/latex": [
       "A tibble: 6 × 15\n",
       "\\begin{tabular}{lllllllllllllll}\n",
       " ID & Age & Gender & Bedtime & Wakeup.time & Sleep.duration & Sleep.efficiency & REM.sleep.percentage & Deep.sleep.percentage & Light.sleep.percentage & Awakenings & Caffeine.consumption & Alcohol.consumption & Smoking.status & Exercise.frequency\\\\\n",
       " <dbl> & <dbl> & <chr> & <dttm> & <dttm> & <dbl> & <dbl> & <dbl> & <dbl> & <dbl> & <dbl> & <dbl> & <dbl> & <chr> & <dbl>\\\\\n",
       "\\hline\n",
       "\t 1 & 65 & Female & 2021-03-06 01:00:00 & 2021-03-06 07:00:00 & 6 & 0.88 & 18 & 70 & 12 & 0 &  0 & 0 & Yes & 3\\\\\n",
       "\t 2 & 69 & Male   & 2021-12-05 02:00:00 & 2021-12-05 09:00:00 & 7 & 0.66 & 19 & 28 & 53 & 3 &  0 & 3 & Yes & 3\\\\\n",
       "\t 3 & 40 & Female & 2021-05-25 21:30:00 & 2021-05-25 05:30:00 & 8 & 0.89 & 20 & 70 & 10 & 1 &  0 & 0 & No  & 3\\\\\n",
       "\t 4 & 40 & Female & 2021-11-03 02:30:00 & 2021-11-03 08:30:00 & 6 & 0.51 & 23 & 25 & 52 & 3 & 50 & 5 & Yes & 1\\\\\n",
       "\t 5 & 57 & Male   & 2021-03-13 01:00:00 & 2021-03-13 09:00:00 & 8 & 0.76 & 27 & 55 & 18 & 3 &  0 & 3 & No  & 3\\\\\n",
       "\t 7 & 27 & Female & 2021-07-21 21:00:00 & 2021-07-21 03:00:00 & 6 & 0.54 & 28 & 25 & 47 & 2 & 50 & 0 & Yes & 1\\\\\n",
       "\\end{tabular}\n"
      ],
      "text/markdown": [
       "\n",
       "A tibble: 6 × 15\n",
       "\n",
       "| ID &lt;dbl&gt; | Age &lt;dbl&gt; | Gender &lt;chr&gt; | Bedtime &lt;dttm&gt; | Wakeup.time &lt;dttm&gt; | Sleep.duration &lt;dbl&gt; | Sleep.efficiency &lt;dbl&gt; | REM.sleep.percentage &lt;dbl&gt; | Deep.sleep.percentage &lt;dbl&gt; | Light.sleep.percentage &lt;dbl&gt; | Awakenings &lt;dbl&gt; | Caffeine.consumption &lt;dbl&gt; | Alcohol.consumption &lt;dbl&gt; | Smoking.status &lt;chr&gt; | Exercise.frequency &lt;dbl&gt; |\n",
       "|---|---|---|---|---|---|---|---|---|---|---|---|---|---|---|\n",
       "| 1 | 65 | Female | 2021-03-06 01:00:00 | 2021-03-06 07:00:00 | 6 | 0.88 | 18 | 70 | 12 | 0 |  0 | 0 | Yes | 3 |\n",
       "| 2 | 69 | Male   | 2021-12-05 02:00:00 | 2021-12-05 09:00:00 | 7 | 0.66 | 19 | 28 | 53 | 3 |  0 | 3 | Yes | 3 |\n",
       "| 3 | 40 | Female | 2021-05-25 21:30:00 | 2021-05-25 05:30:00 | 8 | 0.89 | 20 | 70 | 10 | 1 |  0 | 0 | No  | 3 |\n",
       "| 4 | 40 | Female | 2021-11-03 02:30:00 | 2021-11-03 08:30:00 | 6 | 0.51 | 23 | 25 | 52 | 3 | 50 | 5 | Yes | 1 |\n",
       "| 5 | 57 | Male   | 2021-03-13 01:00:00 | 2021-03-13 09:00:00 | 8 | 0.76 | 27 | 55 | 18 | 3 |  0 | 3 | No  | 3 |\n",
       "| 7 | 27 | Female | 2021-07-21 21:00:00 | 2021-07-21 03:00:00 | 6 | 0.54 | 28 | 25 | 47 | 2 | 50 | 0 | Yes | 1 |\n",
       "\n"
      ],
      "text/plain": [
       "  ID Age Gender Bedtime             Wakeup.time         Sleep.duration\n",
       "1 1  65  Female 2021-03-06 01:00:00 2021-03-06 07:00:00 6             \n",
       "2 2  69  Male   2021-12-05 02:00:00 2021-12-05 09:00:00 7             \n",
       "3 3  40  Female 2021-05-25 21:30:00 2021-05-25 05:30:00 8             \n",
       "4 4  40  Female 2021-11-03 02:30:00 2021-11-03 08:30:00 6             \n",
       "5 5  57  Male   2021-03-13 01:00:00 2021-03-13 09:00:00 8             \n",
       "6 7  27  Female 2021-07-21 21:00:00 2021-07-21 03:00:00 6             \n",
       "  Sleep.efficiency REM.sleep.percentage Deep.sleep.percentage\n",
       "1 0.88             18                   70                   \n",
       "2 0.66             19                   28                   \n",
       "3 0.89             20                   70                   \n",
       "4 0.51             23                   25                   \n",
       "5 0.76             27                   55                   \n",
       "6 0.54             28                   25                   \n",
       "  Light.sleep.percentage Awakenings Caffeine.consumption Alcohol.consumption\n",
       "1 12                     0           0                   0                  \n",
       "2 53                     3           0                   3                  \n",
       "3 10                     1           0                   0                  \n",
       "4 52                     3          50                   5                  \n",
       "5 18                     3           0                   3                  \n",
       "6 47                     2          50                   0                  \n",
       "  Smoking.status Exercise.frequency\n",
       "1 Yes            3                 \n",
       "2 Yes            3                 \n",
       "3 No             3                 \n",
       "4 Yes            1                 \n",
       "5 No             3                 \n",
       "6 Yes            1                 "
      ]
     },
     "metadata": {},
     "output_type": "display_data"
    }
   ],
   "source": [
    "head(df_clean)"
   ]
  },
  {
   "cell_type": "markdown",
   "id": "15e32132-b314-45fd-a493-366f09530ab8",
   "metadata": {},
   "source": [
    "#### 3.2 Wrangling the Sleep Efficiency data\n",
    "\n",
    "Since our research question focus on factors such as `Caffeine.consumption`, `Alcohol.consumption`, `Smoking.status`, `Exercise.frequency`, and the target `Sleep.efficiency`, then we only interested in those columns to finding the most effective strategies enhancing sleep quality."
   ]
  },
  {
   "cell_type": "code",
   "execution_count": 9,
   "id": "f5076428-c723-4d99-bece-bbbe6a880b54",
   "metadata": {
    "tags": []
   },
   "outputs": [
    {
     "data": {
      "text/html": [
       "<table class=\"dataframe\">\n",
       "<caption>A tibble: 6 × 5</caption>\n",
       "<thead>\n",
       "\t<tr><th scope=col>Caffeine.consumption</th><th scope=col>Alcohol.consumption</th><th scope=col>Smoking.status</th><th scope=col>Exercise.frequency</th><th scope=col>Sleep.efficiency</th></tr>\n",
       "\t<tr><th scope=col>&lt;dbl&gt;</th><th scope=col>&lt;dbl&gt;</th><th scope=col>&lt;chr&gt;</th><th scope=col>&lt;dbl&gt;</th><th scope=col>&lt;dbl&gt;</th></tr>\n",
       "</thead>\n",
       "<tbody>\n",
       "\t<tr><td> 0</td><td>0</td><td>Yes</td><td>3</td><td>0.88</td></tr>\n",
       "\t<tr><td> 0</td><td>3</td><td>Yes</td><td>3</td><td>0.66</td></tr>\n",
       "\t<tr><td> 0</td><td>0</td><td>No </td><td>3</td><td>0.89</td></tr>\n",
       "\t<tr><td>50</td><td>5</td><td>Yes</td><td>1</td><td>0.51</td></tr>\n",
       "\t<tr><td> 0</td><td>3</td><td>No </td><td>3</td><td>0.76</td></tr>\n",
       "\t<tr><td>50</td><td>0</td><td>Yes</td><td>1</td><td>0.54</td></tr>\n",
       "</tbody>\n",
       "</table>\n"
      ],
      "text/latex": [
       "A tibble: 6 × 5\n",
       "\\begin{tabular}{lllll}\n",
       " Caffeine.consumption & Alcohol.consumption & Smoking.status & Exercise.frequency & Sleep.efficiency\\\\\n",
       " <dbl> & <dbl> & <chr> & <dbl> & <dbl>\\\\\n",
       "\\hline\n",
       "\t  0 & 0 & Yes & 3 & 0.88\\\\\n",
       "\t  0 & 3 & Yes & 3 & 0.66\\\\\n",
       "\t  0 & 0 & No  & 3 & 0.89\\\\\n",
       "\t 50 & 5 & Yes & 1 & 0.51\\\\\n",
       "\t  0 & 3 & No  & 3 & 0.76\\\\\n",
       "\t 50 & 0 & Yes & 1 & 0.54\\\\\n",
       "\\end{tabular}\n"
      ],
      "text/markdown": [
       "\n",
       "A tibble: 6 × 5\n",
       "\n",
       "| Caffeine.consumption &lt;dbl&gt; | Alcohol.consumption &lt;dbl&gt; | Smoking.status &lt;chr&gt; | Exercise.frequency &lt;dbl&gt; | Sleep.efficiency &lt;dbl&gt; |\n",
       "|---|---|---|---|---|\n",
       "|  0 | 0 | Yes | 3 | 0.88 |\n",
       "|  0 | 3 | Yes | 3 | 0.66 |\n",
       "|  0 | 0 | No  | 3 | 0.89 |\n",
       "| 50 | 5 | Yes | 1 | 0.51 |\n",
       "|  0 | 3 | No  | 3 | 0.76 |\n",
       "| 50 | 0 | Yes | 1 | 0.54 |\n",
       "\n"
      ],
      "text/plain": [
       "  Caffeine.consumption Alcohol.consumption Smoking.status Exercise.frequency\n",
       "1  0                   0                   Yes            3                 \n",
       "2  0                   3                   Yes            3                 \n",
       "3  0                   0                   No             3                 \n",
       "4 50                   5                   Yes            1                 \n",
       "5  0                   3                   No             3                 \n",
       "6 50                   0                   Yes            1                 \n",
       "  Sleep.efficiency\n",
       "1 0.88            \n",
       "2 0.66            \n",
       "3 0.89            \n",
       "4 0.51            \n",
       "5 0.76            \n",
       "6 0.54            "
      ]
     },
     "metadata": {},
     "output_type": "display_data"
    }
   ],
   "source": [
    "data <- df_clean %>%\n",
    "select(Caffeine.consumption, Alcohol.consumption, Smoking.status, Exercise.frequency, Sleep.efficiency)\n",
    "head(data)"
   ]
  },
  {
   "cell_type": "code",
   "execution_count": null,
   "id": "cc0c6dde-73de-48d0-a86a-819c9161869d",
   "metadata": {},
   "outputs": [],
   "source": []
  }
 ],
 "metadata": {
  "kernelspec": {
   "display_name": "R",
   "language": "R",
   "name": "ir"
  },
  "language_info": {
   "codemirror_mode": "r",
   "file_extension": ".r",
   "mimetype": "text/x-r-source",
   "name": "R",
   "pygments_lexer": "r",
   "version": "4.2.3"
  }
 },
 "nbformat": 4,
 "nbformat_minor": 5
}
